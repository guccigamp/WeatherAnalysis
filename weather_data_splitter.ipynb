{
 "cells": [
  {
   "cell_type": "code",
   "execution_count": null,
   "metadata": {},
   "outputs": [],
   "source": [
    "import pandas as pd\n",
    "import io\n",
    "import os"
   ]
  },
  {
   "cell_type": "code",
   "execution_count": null,
   "metadata": {},
   "outputs": [],
   "source": [
    "#Environment variables\n",
    "WEATHER_DATA_DIR = 'Database/Weather Data'\n"
   ]
  },
  {
   "cell_type": "code",
   "execution_count": null,
   "metadata": {},
   "outputs": [],
   "source": [
    "def split_csv_by_empty_row(file_path):\n",
    "    with open(file_path, 'r') as f:\n",
    "        lines = f.readlines()\n",
    "\n",
    "    # Find the empty row\n",
    "    empty_row_indices = [i for i, line in enumerate(lines) if line.strip() == '']\n",
    "\n",
    "    # Assuming there's only one empty row separating the tables\n",
    "    separator_index = empty_row_indices[0]\n",
    "\n",
    "    # Split the lines into two lists based on the separator index\n",
    "    table1_lines = lines[:separator_index]\n",
    "    table2_lines = lines[separator_index + 1:]\n",
    "\n",
    "    # Convert the lists of lines to DataFrames\n",
    "    metadata_df = pd.read_csv(io.StringIO(''.join(table1_lines)))\n",
    "    readings_df = pd.read_csv(io.StringIO(''.join(table2_lines)))\n",
    "\n",
    "    return metadata_df, readings_df\n"
   ]
  },
  {
   "cell_type": "code",
   "execution_count": null,
   "metadata": {},
   "outputs": [],
   "source": [
    "# Split the CSV into two DataFrames\n",
    "metadata_df, readings_df = split_csv_by_empty_row(file_path)"
   ]
  },
  {
   "cell_type": "code",
   "execution_count": null,
   "metadata": {},
   "outputs": [],
   "source": [
    "# Empty list that will be populated with the datasets\n",
    "all_dfs = []\n",
    "\n",
    "# Loops through the files in the Datasets directory\n",
    "for file in os.listdir(WEATHER_DATA_DIR):\n",
    "\n",
    "    # Executes only the .csv files\n",
    "    if(file.endswith('.csv')):\n",
    "        # Split the CSV into two DataFrames\n",
    "        metadata_df, readings_df = split_csv_by_empty_row(f'{WEATHER_DATA_DIR}/{file}')\n",
    "        \n",
    "        # Create new columns in readings_df\n",
    "        readings_df['latitude'] = metadata_df['latitude']\n",
    "        readings_df['longitude'] = metadata_df['longitude']\n",
    "        readings_df['elevation'] = metadata_df['elevation']\n",
    "        readings_df['timezone'] = metadata_df['timezone']\n",
    "        readings_df['timezone_abbreviation'] = metadata_df['timezone_abbreviation']\n",
    "\n",
    "        # Merge metadata_df and readings_df based on location_id\n",
    "        merged_df = pd.merge(readings_df, metadata_df, on='location_id')\n",
    "\n",
    "        # Drop the reduncant columns\n",
    "        merged_df.drop(columns=['latitude_y', 'longitude_y', 'elevation_y', 'timezone_y', 'timezone_abbreviation_y'], inplace=True)\n",
    "\n",
    "        all_dfs.append(merged_df)\n",
    "\n",
    "all_dfs[0]\n"
   ]
  }
 ],
 "metadata": {
  "kernelspec": {
   "display_name": "Python 3",
   "language": "python",
   "name": "python3"
  },
  "language_info": {
   "codemirror_mode": {
    "name": "ipython",
    "version": 3
   },
   "file_extension": ".py",
   "mimetype": "text/x-python",
   "name": "python",
   "nbconvert_exporter": "python",
   "pygments_lexer": "ipython3",
   "version": "3.11.2"
  }
 },
 "nbformat": 4,
 "nbformat_minor": 2
}
